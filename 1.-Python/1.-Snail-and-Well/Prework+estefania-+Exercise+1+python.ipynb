{
 "cells": [
  {
   "cell_type": "code",
   "execution_count": 5,
   "metadata": {},
   "outputs": [
    {
     "name": "stdout",
     "output_type": "stream",
     "text": [
      "0\n",
      "10\n",
      "20\n",
      "30\n",
      "40\n",
      "50\n",
      "60\n",
      "70\n",
      "80\n",
      "90\n",
      "100\n",
      "130\n"
     ]
    }
   ],
   "source": [
    "well=125\n",
    "rises=30\n",
    "slides=20\n",
    "current=0\n",
    "days=0\n",
    "lista_días=[]\n",
    " \n",
    " \n",
    "while (current+rises < well+rises):\n",
    "    if current < well - 30:\n",
    "        print(current)\n",
    "        current += rises\n",
    "        current -= slides\n",
    "        days += 1\n",
    "        lista_días.append(current)\n",
    "        \n",
    "    elif (current >= well -30):\n",
    "        print(current)\n",
    "        current += rises\n",
    "        days += 1\n",
    "        lista_días.append(current)\n",
    "        print(current)\n"
   ]
  }
 ],
 "metadata": {
  "kernelspec": {
   "display_name": "Python 3",
   "language": "python",
   "name": "python3"
  },
  "language_info": {
   "codemirror_mode": {
    "name": "ipython",
    "version": 3
   },
   "file_extension": ".py",
   "mimetype": "text/x-python",
   "name": "python",
   "nbconvert_exporter": "python",
   "pygments_lexer": "ipython3",
   "version": "3.6.3"
  }
 },
 "nbformat": 4,
 "nbformat_minor": 2
}
