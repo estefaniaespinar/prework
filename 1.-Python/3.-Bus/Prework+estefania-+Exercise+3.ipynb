{
 "cells": [
  {
   "cell_type": "code",
   "execution_count": 11,
   "metadata": {},
   "outputs": [
    {
     "name": "stdout",
     "output_type": "stream",
     "text": [
      "9\n",
      "[10, 13, 11, 10, 14, 10, 7, 5, 4]\n",
      "14\n",
      "9.333333333333334\n",
      "9.333333333333334\n",
      "3.391164991562634\n"
     ]
    }
   ],
   "source": [
    "stops = [(10, 0), (4, 1), (3, 5), (3, 4), (5, 1), (1, 5), (5, 8), (4, 6), (2, 3)]\n",
    "\n",
    "#1. Calculate the number of stops.¶\n",
    "\n",
    "print(len(stops))\n",
    "\n",
    "\n",
    "#2. Assign to a variable a list whose elements are the number of passengers at each stop (in-out).¶\n",
    "\n",
    "peopleatthebus=[]\n",
    "people=0\n",
    "\n",
    "for x in stops:\n",
    "    people += (x[0]-x[1])\n",
    "    peopleatthebus.append(people)\n",
    "         \n",
    "print(peopleatthebus)\n",
    "\n",
    "#3. Find the maximum occupation of the bus.¶\n",
    "\n",
    "print(max(peopleatthebus))\n",
    "\n",
    "#4. Calculate the average occupation. And the standard deviation.\n",
    "\n",
    "#average\n",
    "\n",
    "print(sum(peopleatthebus)/len(peopleatthebus))  \n",
    "\n",
    "#or\n",
    "\n",
    "import statistics\n",
    "print(statistics.mean(peopleatthebus))\n",
    " \n",
    "#standard deviation\n",
    "\n",
    "peopleatthebus=[10, 13, 11, 10, 14, 10, 7, 5, 4]\n",
    "import statistics\n",
    "stdev=statistics.stdev(peopleatthebus)\n",
    "print(stdev)\n",
    "\n",
    "\n"
   ]
  }
 ],
 "metadata": {
  "kernelspec": {
   "display_name": "Python 3",
   "language": "python",
   "name": "python3"
  },
  "language_info": {
   "codemirror_mode": {
    "name": "ipython",
    "version": 3
   },
   "file_extension": ".py",
   "mimetype": "text/x-python",
   "name": "python",
   "nbconvert_exporter": "python",
   "pygments_lexer": "ipython3",
   "version": "3.6.3"
  }
 },
 "nbformat": 4,
 "nbformat_minor": 2
}
