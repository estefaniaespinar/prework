{
 "cells": [
  {
   "cell_type": "code",
   "execution_count": 6,
   "metadata": {},
   "outputs": [
    {
     "name": "stdout",
     "output_type": "stream",
     "text": [
      "10\n",
      "11\n",
      "13\n",
      "30\n",
      "22\n",
      "11\n",
      "10\n",
      "33\n",
      "22\n",
      "22\n",
      "Total points gandalf:  184\n",
      "23\n",
      "66\n",
      "12\n",
      "43\n",
      "12\n",
      "10\n",
      "44\n",
      "23\n",
      "12\n",
      "17\n",
      "Total points saruman:  262\n",
      "Sarunam wins\n"
     ]
    }
   ],
   "source": [
    "gandalf = [10, 11, 13, 30, 22, 11, 10, 33, 22, 22]\n",
    "gandalf_points=[]\n",
    " \n",
    "saruman = [23, 66, 12, 43, 12, 10, 44, 23, 12, 17]\n",
    "saruman_points=[]\n",
    " \n",
    "for i in range(len(gandalf)):\n",
    "    print(gandalf[i])\n",
    "    gandalf_points.append(gandalf[i])\n",
    " \n",
    "result_gandalf=sum(gandalf_points) \n",
    " \n",
    "print(\"Total points gandalf: \",result_gandalf)\n",
    " \n",
    "for i in range(len(saruman)):\n",
    "    print(saruman[i])\n",
    "    saruman_points.append(saruman[i])\n",
    " \n",
    "result_saruman=sum(saruman_points)\n",
    " \n",
    "print(\"Total points saruman: \",result_saruman) \n",
    " \n",
    "if result_gandalf > result_saruman:\n",
    "    print(\"Gandalf wins\")\n",
    "elif result_gandalf < result_saruman:\n",
    "    print(\"Sarunam wins\")\n",
    "elif result_gandalf == result_saruman:\n",
    "    print(\"Tie\")\n",
    "else:\n",
    "    print(\"IDK\")\n",
    "\n"
   ]
  }
 ],
 "metadata": {
  "kernelspec": {
   "display_name": "Python 3",
   "language": "python",
   "name": "python3"
  },
  "language_info": {
   "codemirror_mode": {
    "name": "ipython",
    "version": 3
   },
   "file_extension": ".py",
   "mimetype": "text/x-python",
   "name": "python",
   "nbconvert_exporter": "python",
   "pygments_lexer": "ipython3",
   "version": "3.6.3"
  }
 },
 "nbformat": 4,
 "nbformat_minor": 2
}
