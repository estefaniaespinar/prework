{
 "cells": [
  {
   "cell_type": "code",
   "execution_count": 1,
   "metadata": {},
   "outputs": [
    {
     "name": "stdout",
     "output_type": "stream",
     "text": [
      "0\n",
      "90\n",
      "We should change the temperature sensor\n"
     ]
    }
   ],
   "source": [
    "temperatures_C = [33, 66, 65, 0, 59, 60, 62, 64, 70, 76, 80, 81, 80, 83, 90, 79, 61, 53, 50, 49, 53, 48, 45, 39]\n",
    "\n",
    "#1. Find the minimum temperature of the day and store it in a variable.¶\n",
    " \n",
    "min_temperature=min(temperatures_C)\n",
    "print(min_temperature)\n",
    "\n",
    "#2. Find the maximum temperature of the day and store it in a variable.¶\n",
    "\n",
    "max_temperature=max(temperatures_C)\n",
    "print(max_temperature)\n",
    " \n",
    "#3. Create a list with the temperatures that are greater than or equal to 70ºC. Store it in a variable.¶\n",
    " \n",
    "greaterthan70=[]\n",
    "for x in temperatures_C:\n",
    "    if x >= 70:\n",
    "        greaterthan70.append(x)\n",
    "        \n",
    "#4. Find the average temperature of the day and store it in a variable.¶\n",
    "\n",
    "average=(sum(temperatures_C)/len(temperatures_C))\n",
    "\n",
    "#5. Imagine that there was a sensor failure at 3am and the data for that specific hour was not recorded. How would you estimate the missing value? Replace the current value of the list at 3am for an estimation.\n",
    "\n",
    "estimate3am=(temperatures_C[14]+temperatures_C[16])/2\n",
    "temperatures_C[15]=estimate3am\n",
    "\n",
    "#6. Bonus: the maintenance staff is from the United States and does not understand the international metric system. Help them by converting the temperatures from Celsius to Fahrenheit.\n",
    " \n",
    "fahrenheit=[]\n",
    "for x in temperatures_C:\n",
    "    fahrenheit.append((1.8*(x))+32)\n",
    "\n",
    "#7. Make a decision!\n",
    " \n",
    "temperatures_C = [33, 66, 65, 0, 59, 60, 62, 64, 70, 76, 80, 81, 80, 83, 90, 79, 61, 53, 50, 49, 53, 48, 45, 39]\n",
    " \n",
    "greaterthan70=[]\n",
    "\n",
    "for x in temperatures_C:\n",
    "    if x >= 70:\n",
    "        greaterthan70.append(x)\n",
    "        \n",
    "max_temperature=max(temperatures_C)\n",
    " \n",
    "average=(sum(temperatures_C)/len(temperatures_C))\n",
    " \n",
    " \n",
    "if (len(greaterthan70))>=4 or max_temperature > 80 or average>65:\n",
    "    print(\"We should change the temperature sensor\")\n",
    "else:\n",
    "    print(\"We should keep the current sensor\")\n",
    "    \n"
   ]
  }
 ],
 "metadata": {
  "kernelspec": {
   "display_name": "Python 3",
   "language": "python",
   "name": "python3"
  },
  "language_info": {
   "codemirror_mode": {
    "name": "ipython",
    "version": 3
   },
   "file_extension": ".py",
   "mimetype": "text/x-python",
   "name": "python",
   "nbconvert_exporter": "python",
   "pygments_lexer": "ipython3",
   "version": "3.6.3"
  }
 },
 "nbformat": 4,
 "nbformat_minor": 2
}
